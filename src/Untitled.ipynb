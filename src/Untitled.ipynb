{
 "cells": [
  {
   "cell_type": "code",
   "execution_count": 1,
   "metadata": {},
   "outputs": [],
   "source": [
    "from pyspark.sql import SparkSession\n",
    "\n",
    "def create_dataframe():\n",
    "    spark = SparkSession.builder.appName(\"Dbconnect test\").getOrCreate()\n",
    "\n",
    "    df = spark.createDataFrame([('Fiji Apple', 'Red', 3.5),\n",
    "                                ('Banana', 'Yellow', 1.0),\n",
    "                                ('Green Grape', 'Green', 2.0),\n",
    "                                ('Red Grape', 'Red', 2.0),\n",
    "                                ('Peach', 'Yellow', 3.0),\n",
    "                                ('Orange', 'Orange', 2.0),\n",
    "                                ('Green Apple', 'Green', 2.5)],\n",
    "                               ['Fruit', 'Color', 'Price'])\n",
    "    df.show()\n",
    "    return df"
   ]
  },
  {
   "cell_type": "code",
   "execution_count": 2,
   "metadata": {},
   "outputs": [
    {
     "name": "stdout",
     "output_type": "stream",
     "text": [
      "+-----------+------+-----+\n",
      "|      Fruit| Color|Price|\n",
      "+-----------+------+-----+\n",
      "| Fiji Apple|   Red|  3.5|\n",
      "|     Banana|Yellow|  1.0|\n",
      "|Green Grape| Green|  2.0|\n",
      "|  Red Grape|   Red|  2.0|\n",
      "|      Peach|Yellow|  3.0|\n",
      "|     Orange|Orange|  2.0|\n",
      "|Green Apple| Green|  2.5|\n",
      "+-----------+------+-----+\n",
      "\n"
     ]
    }
   ],
   "source": [
    "df = create_dataframe()"
   ]
  },
  {
   "cell_type": "code",
   "execution_count": 3,
   "metadata": {},
   "outputs": [],
   "source": [
    "from dbconnect import _get_dbutils"
   ]
  },
  {
   "cell_type": "code",
   "execution_count": 4,
   "metadata": {},
   "outputs": [],
   "source": [
    "spark = SparkSession.builder.appName(\"Dbconnect test\").getOrCreate()\n",
    "dbutils = _get_dbutils(spark)"
   ]
  },
  {
   "cell_type": "code",
   "execution_count": 5,
   "metadata": {},
   "outputs": [
    {
     "data": {
      "text/plain": [
       "[FileInfo(path='dbfs:/FileStore/', name='FileStore/', size=0),\n",
       " FileInfo(path='dbfs:/databricks-datasets/', name='databricks-datasets/', size=0),\n",
       " FileInfo(path='dbfs:/databricks-results/', name='databricks-results/', size=0),\n",
       " FileInfo(path='dbfs:/tmp/', name='tmp/', size=0),\n",
       " FileInfo(path='dbfs:/user/', name='user/', size=0)]"
      ]
     },
     "execution_count": 5,
     "metadata": {},
     "output_type": "execute_result"
    }
   ],
   "source": [
    "dbutils.fs.ls(\"/\")"
   ]
  },
  {
   "cell_type": "code",
   "execution_count": null,
   "metadata": {},
   "outputs": [],
   "source": []
  }
 ],
 "metadata": {
  "kernelspec": {
   "display_name": "db_connect_env",
   "language": "python",
   "name": "db_connect_env"
  },
  "language_info": {
   "codemirror_mode": {
    "name": "ipython",
    "version": 3
   },
   "file_extension": ".py",
   "mimetype": "text/x-python",
   "name": "python",
   "nbconvert_exporter": "python",
   "pygments_lexer": "ipython3",
   "version": "3.7.8"
  }
 },
 "nbformat": 4,
 "nbformat_minor": 4
}
